{
 "cells": [
  {
   "cell_type": "code",
   "execution_count": 1,
   "metadata": {},
   "outputs": [],
   "source": [
    "import requests\n",
    "from bs4 import BeautifulSoup\n",
    "import ccxt\n",
    "from tqdm.notebook import tqdm\n",
    "import pandas as pd\n",
    "from concurrent.futures import ThreadPoolExecutor\n",
    "import time"
   ]
  },
  {
   "cell_type": "code",
   "execution_count": 2,
   "metadata": {},
   "outputs": [],
   "source": [
    "url = 'https://coinmarketcap.com/exchanges/binance/'\n",
    "response = requests.get(url)\n",
    "content = response.text"
   ]
  },
  {
   "cell_type": "code",
   "execution_count": 3,
   "metadata": {},
   "outputs": [],
   "source": [
    "soup = BeautifulSoup(content, 'html.parser')"
   ]
  },
  {
   "cell_type": "code",
   "execution_count": 4,
   "metadata": {},
   "outputs": [],
   "source": [
    "market_data_class = 'sc-7b3ac367-3 NFswn cmc-table'\n",
    "table = soup.find(class_=market_data_class)"
   ]
  },
  {
   "cell_type": "code",
   "execution_count": 5,
   "metadata": {},
   "outputs": [],
   "source": [
    "column_index = 2\n",
    "\n",
    "symbols = []\n",
    "\n",
    "for row in table.find_all('tr'):\n",
    "    cells = row.find_all('td')\n",
    "    if len(cells) > column_index:\n",
    "        symbols.append(cells[column_index].text)"
   ]
  },
  {
   "cell_type": "code",
   "execution_count": 6,
   "metadata": {},
   "outputs": [],
   "source": [
    "binance = ccxt.binance()"
   ]
  },
  {
   "cell_type": "code",
   "execution_count": 9,
   "metadata": {},
   "outputs": [],
   "source": [
    "def fetch_ohlcv(symbol, interval, start_timestamp):\n",
    "    from_ts = binance.parse8601(start_timestamp)\n",
    "    ohlcv = binance.fetch_ohlcv(symbol, interval, since=from_ts, limit=1000)\n",
    "    while True:\n",
    "        from_ts = ohlcv[-1][0] + 1\n",
    "        new_ohlcv = binance.fetch_ohlcv(symbol, interval, since=from_ts, limit=1000)\n",
    "        ohlcv.extend(new_ohlcv)\n",
    "        if len(new_ohlcv) != 1000:\n",
    "            break\n",
    "    data_dict = {symbol: ohlcv}\n",
    "    return data_dict"
   ]
  },
  {
   "cell_type": "code",
   "execution_count": 10,
   "metadata": {},
   "outputs": [
    {
     "data": {
      "application/vnd.jupyter.widget-view+json": {
       "model_id": "d9d23955d9bc480e90da0a3cf9b760d4",
       "version_major": 2,
       "version_minor": 0
      },
      "text/plain": [
       "Fetching OHLCV Data:   0%|          | 0/50 [00:00<?, ?trading pair/s]"
      ]
     },
     "metadata": {},
     "output_type": "display_data"
    }
   ],
   "source": [
    "start_timestamp = '2024-06-21 19:15:00'\n",
    "interval = '15m'\n",
    "full_ohlcv = {}\n",
    "\n",
    "for symbol in tqdm(symbols, desc='Fetching OHLCV Data', unit='trading pair'):\n",
    "    ohlcv = fetch_ohlcv(symbol, interval, start_timestamp)\n",
    "    full_ohlcv.update(ohlcv)"
   ]
  },
  {
   "cell_type": "code",
   "execution_count": 20,
   "metadata": {},
   "outputs": [],
   "source": [
    "data_for_df = []\n",
    "\n",
    "for symbol, ohlcv in full_ohlcv.items():\n",
    "    for entry in ohlcv:\n",
    "        data_for_df.append([entry[0], symbol] + entry[1:])"
   ]
  },
  {
   "cell_type": "code",
   "execution_count": 26,
   "metadata": {},
   "outputs": [
    {
     "data": {
      "text/html": [
       "<div>\n",
       "<style scoped>\n",
       "    .dataframe tbody tr th:only-of-type {\n",
       "        vertical-align: middle;\n",
       "    }\n",
       "\n",
       "    .dataframe tbody tr th {\n",
       "        vertical-align: top;\n",
       "    }\n",
       "\n",
       "    .dataframe thead th {\n",
       "        text-align: right;\n",
       "    }\n",
       "</style>\n",
       "<table border=\"1\" class=\"dataframe\">\n",
       "  <thead>\n",
       "    <tr style=\"text-align: right;\">\n",
       "      <th></th>\n",
       "      <th>Timestamp</th>\n",
       "      <th>Pair</th>\n",
       "      <th>Open</th>\n",
       "      <th>High</th>\n",
       "      <th>Low</th>\n",
       "      <th>Close</th>\n",
       "      <th>Volume</th>\n",
       "    </tr>\n",
       "  </thead>\n",
       "  <tbody>\n",
       "    <tr>\n",
       "      <th>0</th>\n",
       "      <td>2024-06-21 19:15:00</td>\n",
       "      <td>BTC/FDUSD</td>\n",
       "      <td>63942.02</td>\n",
       "      <td>64072.13</td>\n",
       "      <td>63933.64</td>\n",
       "      <td>64004.01</td>\n",
       "      <td>319.60860</td>\n",
       "    </tr>\n",
       "    <tr>\n",
       "      <th>1</th>\n",
       "      <td>2024-06-21 19:30:00</td>\n",
       "      <td>BTC/FDUSD</td>\n",
       "      <td>64002.94</td>\n",
       "      <td>64133.57</td>\n",
       "      <td>63998.18</td>\n",
       "      <td>64115.95</td>\n",
       "      <td>318.18427</td>\n",
       "    </tr>\n",
       "    <tr>\n",
       "      <th>2</th>\n",
       "      <td>2024-06-21 19:45:00</td>\n",
       "      <td>BTC/FDUSD</td>\n",
       "      <td>64114.12</td>\n",
       "      <td>64240.00</td>\n",
       "      <td>64052.89</td>\n",
       "      <td>64197.99</td>\n",
       "      <td>371.73904</td>\n",
       "    </tr>\n",
       "    <tr>\n",
       "      <th>3</th>\n",
       "      <td>2024-06-21 20:00:00</td>\n",
       "      <td>BTC/FDUSD</td>\n",
       "      <td>64196.03</td>\n",
       "      <td>64374.00</td>\n",
       "      <td>64169.85</td>\n",
       "      <td>64249.50</td>\n",
       "      <td>409.04486</td>\n",
       "    </tr>\n",
       "    <tr>\n",
       "      <th>4</th>\n",
       "      <td>2024-06-21 20:15:00</td>\n",
       "      <td>BTC/FDUSD</td>\n",
       "      <td>64251.91</td>\n",
       "      <td>64435.48</td>\n",
       "      <td>64232.43</td>\n",
       "      <td>64235.30</td>\n",
       "      <td>271.01192</td>\n",
       "    </tr>\n",
       "  </tbody>\n",
       "</table>\n",
       "</div>"
      ],
      "text/plain": [
       "            Timestamp       Pair      Open      High       Low     Close  \\\n",
       "0 2024-06-21 19:15:00  BTC/FDUSD  63942.02  64072.13  63933.64  64004.01   \n",
       "1 2024-06-21 19:30:00  BTC/FDUSD  64002.94  64133.57  63998.18  64115.95   \n",
       "2 2024-06-21 19:45:00  BTC/FDUSD  64114.12  64240.00  64052.89  64197.99   \n",
       "3 2024-06-21 20:00:00  BTC/FDUSD  64196.03  64374.00  64169.85  64249.50   \n",
       "4 2024-06-21 20:15:00  BTC/FDUSD  64251.91  64435.48  64232.43  64235.30   \n",
       "\n",
       "      Volume  \n",
       "0  319.60860  \n",
       "1  318.18427  \n",
       "2  371.73904  \n",
       "3  409.04486  \n",
       "4  271.01192  "
      ]
     },
     "execution_count": 26,
     "metadata": {},
     "output_type": "execute_result"
    }
   ],
   "source": [
    "df = pd.DataFrame(data_for_df, columns=['Timestamp', 'Pair', 'Open', 'High', 'Low', 'Close', 'Volume'])\n",
    "df['Timestamp'] = pd.to_datetime(df['Timestamp'], unit='ms')\n",
    "df.head()"
   ]
  },
  {
   "cell_type": "code",
   "execution_count": null,
   "metadata": {},
   "outputs": [],
   "source": []
  }
 ],
 "metadata": {
  "kernelspec": {
   "display_name": "base",
   "language": "python",
   "name": "python3"
  },
  "language_info": {
   "codemirror_mode": {
    "name": "ipython",
    "version": 3
   },
   "file_extension": ".py",
   "mimetype": "text/x-python",
   "name": "python",
   "nbconvert_exporter": "python",
   "pygments_lexer": "ipython3",
   "version": "3.12.4"
  }
 },
 "nbformat": 4,
 "nbformat_minor": 2
}
