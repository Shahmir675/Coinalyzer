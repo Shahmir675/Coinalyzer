{
 "cells": [
  {
   "cell_type": "markdown",
   "metadata": {},
   "source": [
    "## Importing Dependencies"
   ]
  },
  {
   "cell_type": "code",
   "execution_count": 1,
   "metadata": {},
   "outputs": [],
   "source": [
    "import requests\n",
    "from bs4 import BeautifulSoup\n",
    "import ccxt\n",
    "from tqdm.notebook import tqdm\n",
    "import pandas as pd"
   ]
  },
  {
   "cell_type": "markdown",
   "metadata": {},
   "source": [
    "## Extracting 50 trading pairs with highest market cap on Binance"
   ]
  },
  {
   "cell_type": "code",
   "execution_count": 2,
   "metadata": {},
   "outputs": [],
   "source": [
    "url = 'https://coinmarketcap.com/exchanges/binance/'\n",
    "response = requests.get(url)\n",
    "content = response.text"
   ]
  },
  {
   "cell_type": "code",
   "execution_count": 3,
   "metadata": {},
   "outputs": [],
   "source": [
    "soup = BeautifulSoup(content, 'html.parser')"
   ]
  },
  {
   "cell_type": "code",
   "execution_count": 4,
   "metadata": {},
   "outputs": [],
   "source": [
    "market_data_html_class = 'sc-7b3ac367-3 NFswn cmc-table'\n",
    "table = soup.find(class_=market_data_html_class)"
   ]
  },
  {
   "cell_type": "code",
   "execution_count": 5,
   "metadata": {},
   "outputs": [
    {
     "name": "stdout",
     "output_type": "stream",
     "text": [
      "BTC/FDUSD\n",
      "ETH/FDUSD\n",
      "BTC/USDT\n",
      "ETH/USDT\n",
      "SOL/USDT\n",
      "USDC/USDT\n",
      "FDUSD/USDT\n",
      "CATI/USDT\n",
      "SOL/FDUSD\n",
      "NEIRO/USDT\n"
     ]
    }
   ],
   "source": [
    "column_index = 2\n",
    "trading_pairs = []\n",
    "\n",
    "for row in table.find_all('tr'):\n",
    "    cells = row.find_all('td')\n",
    "    if len(cells) > column_index:\n",
    "        trading_pairs.append(cells[column_index].text)\n",
    "\n",
    "for i in range(10):\n",
    "    print(trading_pairs[i])"
   ]
  },
  {
   "cell_type": "markdown",
   "metadata": {},
   "source": [
    "## Extracting OHLCV data for each trading pair"
   ]
  },
  {
   "cell_type": "code",
   "execution_count": 6,
   "metadata": {},
   "outputs": [],
   "source": [
    "binance = ccxt.binance()"
   ]
  },
  {
   "cell_type": "code",
   "execution_count": 7,
   "metadata": {},
   "outputs": [],
   "source": [
    "def fetch_ohlcv(trading_pair, interval, start_ts):\n",
    "    from_ts = binance.parse8601(start_ts)\n",
    "    ohlcv = binance.fetch_ohlcv(trading_pair, interval, since=from_ts, limit=1000)\n",
    "    while True:\n",
    "        from_ts = ohlcv[-1][0] + 1\n",
    "        new_ohlcv = binance.fetch_ohlcv(trading_pair, interval, since=from_ts, limit=1000)\n",
    "        ohlcv.extend(new_ohlcv)\n",
    "        if len(new_ohlcv) != 1000:\n",
    "            break\n",
    "    data_dict = {trading_pair: ohlcv}\n",
    "    return data_dict"
   ]
  },
  {
   "cell_type": "code",
   "execution_count": 8,
   "metadata": {},
   "outputs": [
    {
     "data": {
      "application/vnd.jupyter.widget-view+json": {
       "model_id": "b48b177964184c0ca8ef038b4de3ef53",
       "version_major": 2,
       "version_minor": 0
      },
      "text/plain": [
       "Fetching OHLCV Data:   0%|          | 0/50 [00:00<?, ?Trading Pair/s]"
      ]
     },
     "metadata": {},
     "output_type": "display_data"
    }
   ],
   "source": [
    "start_ts = '2024-06-21 19:15:00'\n",
    "interval = '15m'\n",
    "full_ohlcv = {}\n",
    "\n",
    "for trading_pair in tqdm(trading_pairs, desc='Fetching OHLCV Data', unit='Trading Pair'):\n",
    "    ohlcv = fetch_ohlcv(trading_pair, interval, start_ts)\n",
    "    full_ohlcv.update(ohlcv)"
   ]
  },
  {
   "cell_type": "code",
   "execution_count": 14,
   "metadata": {},
   "outputs": [],
   "source": [
    "data_for_df = []\n",
    "\n",
    "for trading_pair, ohlcv in full_ohlcv.items():\n",
    "    for entry in ohlcv:\n",
    "        data_for_df.append([entry[0], trading_pair] + entry[1:])"
   ]
  },
  {
   "cell_type": "code",
   "execution_count": 15,
   "metadata": {},
   "outputs": [
    {
     "data": {
      "text/html": [
       "<div>\n",
       "<style scoped>\n",
       "    .dataframe tbody tr th:only-of-type {\n",
       "        vertical-align: middle;\n",
       "    }\n",
       "\n",
       "    .dataframe tbody tr th {\n",
       "        vertical-align: top;\n",
       "    }\n",
       "\n",
       "    .dataframe thead th {\n",
       "        text-align: right;\n",
       "    }\n",
       "</style>\n",
       "<table border=\"1\" class=\"dataframe\">\n",
       "  <thead>\n",
       "    <tr style=\"text-align: right;\">\n",
       "      <th></th>\n",
       "      <th>Trading Pair</th>\n",
       "      <th>Open</th>\n",
       "      <th>High</th>\n",
       "      <th>Low</th>\n",
       "      <th>Close</th>\n",
       "      <th>Volume</th>\n",
       "    </tr>\n",
       "    <tr>\n",
       "      <th>Timestamp</th>\n",
       "      <th></th>\n",
       "      <th></th>\n",
       "      <th></th>\n",
       "      <th></th>\n",
       "      <th></th>\n",
       "      <th></th>\n",
       "    </tr>\n",
       "  </thead>\n",
       "  <tbody>\n",
       "    <tr>\n",
       "      <th>2024-06-21 19:15:00</th>\n",
       "      <td>BTC/FDUSD</td>\n",
       "      <td>63942.02</td>\n",
       "      <td>64072.13</td>\n",
       "      <td>63933.64</td>\n",
       "      <td>64004.01</td>\n",
       "      <td>319.60860</td>\n",
       "    </tr>\n",
       "    <tr>\n",
       "      <th>2024-06-21 19:30:00</th>\n",
       "      <td>BTC/FDUSD</td>\n",
       "      <td>64002.94</td>\n",
       "      <td>64133.57</td>\n",
       "      <td>63998.18</td>\n",
       "      <td>64115.95</td>\n",
       "      <td>318.18427</td>\n",
       "    </tr>\n",
       "    <tr>\n",
       "      <th>2024-06-21 19:45:00</th>\n",
       "      <td>BTC/FDUSD</td>\n",
       "      <td>64114.12</td>\n",
       "      <td>64240.00</td>\n",
       "      <td>64052.89</td>\n",
       "      <td>64197.99</td>\n",
       "      <td>371.73904</td>\n",
       "    </tr>\n",
       "    <tr>\n",
       "      <th>2024-06-21 20:00:00</th>\n",
       "      <td>BTC/FDUSD</td>\n",
       "      <td>64196.03</td>\n",
       "      <td>64374.00</td>\n",
       "      <td>64169.85</td>\n",
       "      <td>64249.50</td>\n",
       "      <td>409.04486</td>\n",
       "    </tr>\n",
       "    <tr>\n",
       "      <th>2024-06-21 20:15:00</th>\n",
       "      <td>BTC/FDUSD</td>\n",
       "      <td>64251.91</td>\n",
       "      <td>64435.48</td>\n",
       "      <td>64232.43</td>\n",
       "      <td>64235.30</td>\n",
       "      <td>271.01192</td>\n",
       "    </tr>\n",
       "  </tbody>\n",
       "</table>\n",
       "</div>"
      ],
      "text/plain": [
       "                    Trading Pair      Open      High       Low     Close  \\\n",
       "Timestamp                                                                  \n",
       "2024-06-21 19:15:00    BTC/FDUSD  63942.02  64072.13  63933.64  64004.01   \n",
       "2024-06-21 19:30:00    BTC/FDUSD  64002.94  64133.57  63998.18  64115.95   \n",
       "2024-06-21 19:45:00    BTC/FDUSD  64114.12  64240.00  64052.89  64197.99   \n",
       "2024-06-21 20:00:00    BTC/FDUSD  64196.03  64374.00  64169.85  64249.50   \n",
       "2024-06-21 20:15:00    BTC/FDUSD  64251.91  64435.48  64232.43  64235.30   \n",
       "\n",
       "                        Volume  \n",
       "Timestamp                       \n",
       "2024-06-21 19:15:00  319.60860  \n",
       "2024-06-21 19:30:00  318.18427  \n",
       "2024-06-21 19:45:00  371.73904  \n",
       "2024-06-21 20:00:00  409.04486  \n",
       "2024-06-21 20:15:00  271.01192  "
      ]
     },
     "execution_count": 15,
     "metadata": {},
     "output_type": "execute_result"
    }
   ],
   "source": [
    "df = pd.DataFrame(data_for_df, columns=['Timestamp', 'Trading Pair', 'Open', 'High', 'Low', 'Close', 'Volume'])\n",
    "df['Timestamp'] = pd.to_datetime(df['Timestamp'], unit='ms')\n",
    "df.set_index('Timestamp', inplace=True)\n",
    "df.head()"
   ]
  },
  {
   "cell_type": "markdown",
   "metadata": {},
   "source": [
    "## Calculating 24-Hour trading volume"
   ]
  },
  {
   "cell_type": "code",
   "execution_count": 16,
   "metadata": {},
   "outputs": [],
   "source": [
    "df['24-Hour Volume'] = df['Volume'].rolling(window=96).sum()"
   ]
  },
  {
   "cell_type": "code",
   "execution_count": 13,
   "metadata": {},
   "outputs": [
    {
     "data": {
      "text/html": [
       "<div>\n",
       "<style scoped>\n",
       "    .dataframe tbody tr th:only-of-type {\n",
       "        vertical-align: middle;\n",
       "    }\n",
       "\n",
       "    .dataframe tbody tr th {\n",
       "        vertical-align: top;\n",
       "    }\n",
       "\n",
       "    .dataframe thead th {\n",
       "        text-align: right;\n",
       "    }\n",
       "</style>\n",
       "<table border=\"1\" class=\"dataframe\">\n",
       "  <thead>\n",
       "    <tr style=\"text-align: right;\">\n",
       "      <th></th>\n",
       "      <th>Trading Pair</th>\n",
       "      <th>Open</th>\n",
       "      <th>High</th>\n",
       "      <th>Low</th>\n",
       "      <th>Close</th>\n",
       "      <th>Volume</th>\n",
       "      <th>24-Hour Volume</th>\n",
       "    </tr>\n",
       "    <tr>\n",
       "      <th>Timestamp</th>\n",
       "      <th></th>\n",
       "      <th></th>\n",
       "      <th></th>\n",
       "      <th></th>\n",
       "      <th></th>\n",
       "      <th></th>\n",
       "      <th></th>\n",
       "    </tr>\n",
       "  </thead>\n",
       "  <tbody>\n",
       "    <tr>\n",
       "      <th>2024-06-21 19:15:00</th>\n",
       "      <td>BTC/FDUSD</td>\n",
       "      <td>63942.0200</td>\n",
       "      <td>64072.1300</td>\n",
       "      <td>63933.6400</td>\n",
       "      <td>64004.0100</td>\n",
       "      <td>319.60860</td>\n",
       "      <td>0.0</td>\n",
       "    </tr>\n",
       "    <tr>\n",
       "      <th>2024-06-21 19:30:00</th>\n",
       "      <td>BTC/FDUSD</td>\n",
       "      <td>64002.9400</td>\n",
       "      <td>64133.5700</td>\n",
       "      <td>63998.1800</td>\n",
       "      <td>64115.9500</td>\n",
       "      <td>318.18427</td>\n",
       "      <td>0.0</td>\n",
       "    </tr>\n",
       "    <tr>\n",
       "      <th>2024-06-21 19:45:00</th>\n",
       "      <td>BTC/FDUSD</td>\n",
       "      <td>64114.1200</td>\n",
       "      <td>64240.0000</td>\n",
       "      <td>64052.8900</td>\n",
       "      <td>64197.9900</td>\n",
       "      <td>371.73904</td>\n",
       "      <td>0.0</td>\n",
       "    </tr>\n",
       "    <tr>\n",
       "      <th>2024-06-21 20:00:00</th>\n",
       "      <td>BTC/FDUSD</td>\n",
       "      <td>64196.0300</td>\n",
       "      <td>64374.0000</td>\n",
       "      <td>64169.8500</td>\n",
       "      <td>64249.5000</td>\n",
       "      <td>409.04486</td>\n",
       "      <td>0.0</td>\n",
       "    </tr>\n",
       "    <tr>\n",
       "      <th>2024-06-21 20:15:00</th>\n",
       "      <td>BTC/FDUSD</td>\n",
       "      <td>64251.9100</td>\n",
       "      <td>64435.4800</td>\n",
       "      <td>64232.4300</td>\n",
       "      <td>64235.3000</td>\n",
       "      <td>271.01192</td>\n",
       "      <td>0.0</td>\n",
       "    </tr>\n",
       "    <tr>\n",
       "      <th>...</th>\n",
       "      <td>...</td>\n",
       "      <td>...</td>\n",
       "      <td>...</td>\n",
       "      <td>...</td>\n",
       "      <td>...</td>\n",
       "      <td>...</td>\n",
       "      <td>...</td>\n",
       "    </tr>\n",
       "    <tr>\n",
       "      <th>2024-09-21 21:15:00</th>\n",
       "      <td>FIDA/USDT</td>\n",
       "      <td>0.3205</td>\n",
       "      <td>0.3205</td>\n",
       "      <td>0.3174</td>\n",
       "      <td>0.3187</td>\n",
       "      <td>430107.40000</td>\n",
       "      <td>67507804.7</td>\n",
       "    </tr>\n",
       "    <tr>\n",
       "      <th>2024-09-21 21:30:00</th>\n",
       "      <td>FIDA/USDT</td>\n",
       "      <td>0.3186</td>\n",
       "      <td>0.3205</td>\n",
       "      <td>0.3179</td>\n",
       "      <td>0.3189</td>\n",
       "      <td>389173.20000</td>\n",
       "      <td>67561959.6</td>\n",
       "    </tr>\n",
       "    <tr>\n",
       "      <th>2024-09-21 21:45:00</th>\n",
       "      <td>FIDA/USDT</td>\n",
       "      <td>0.3188</td>\n",
       "      <td>0.3196</td>\n",
       "      <td>0.3185</td>\n",
       "      <td>0.3191</td>\n",
       "      <td>58445.40000</td>\n",
       "      <td>67301593.9</td>\n",
       "    </tr>\n",
       "    <tr>\n",
       "      <th>2024-09-21 22:00:00</th>\n",
       "      <td>FIDA/USDT</td>\n",
       "      <td>0.3190</td>\n",
       "      <td>0.3198</td>\n",
       "      <td>0.3172</td>\n",
       "      <td>0.3183</td>\n",
       "      <td>307479.50000</td>\n",
       "      <td>67077140.4</td>\n",
       "    </tr>\n",
       "    <tr>\n",
       "      <th>2024-09-21 22:15:00</th>\n",
       "      <td>FIDA/USDT</td>\n",
       "      <td>0.3185</td>\n",
       "      <td>0.3201</td>\n",
       "      <td>0.3177</td>\n",
       "      <td>0.3184</td>\n",
       "      <td>218157.40000</td>\n",
       "      <td>66959140.8</td>\n",
       "    </tr>\n",
       "  </tbody>\n",
       "</table>\n",
       "<p>410222 rows × 7 columns</p>\n",
       "</div>"
      ],
      "text/plain": [
       "                    Trading Pair        Open        High         Low  \\\n",
       "Timestamp                                                              \n",
       "2024-06-21 19:15:00    BTC/FDUSD  63942.0200  64072.1300  63933.6400   \n",
       "2024-06-21 19:30:00    BTC/FDUSD  64002.9400  64133.5700  63998.1800   \n",
       "2024-06-21 19:45:00    BTC/FDUSD  64114.1200  64240.0000  64052.8900   \n",
       "2024-06-21 20:00:00    BTC/FDUSD  64196.0300  64374.0000  64169.8500   \n",
       "2024-06-21 20:15:00    BTC/FDUSD  64251.9100  64435.4800  64232.4300   \n",
       "...                          ...         ...         ...         ...   \n",
       "2024-09-21 21:15:00    FIDA/USDT      0.3205      0.3205      0.3174   \n",
       "2024-09-21 21:30:00    FIDA/USDT      0.3186      0.3205      0.3179   \n",
       "2024-09-21 21:45:00    FIDA/USDT      0.3188      0.3196      0.3185   \n",
       "2024-09-21 22:00:00    FIDA/USDT      0.3190      0.3198      0.3172   \n",
       "2024-09-21 22:15:00    FIDA/USDT      0.3185      0.3201      0.3177   \n",
       "\n",
       "                          Close        Volume  24-Hour Volume  \n",
       "Timestamp                                                      \n",
       "2024-06-21 19:15:00  64004.0100     319.60860             0.0  \n",
       "2024-06-21 19:30:00  64115.9500     318.18427             0.0  \n",
       "2024-06-21 19:45:00  64197.9900     371.73904             0.0  \n",
       "2024-06-21 20:00:00  64249.5000     409.04486             0.0  \n",
       "2024-06-21 20:15:00  64235.3000     271.01192             0.0  \n",
       "...                         ...           ...             ...  \n",
       "2024-09-21 21:15:00      0.3187  430107.40000      67507804.7  \n",
       "2024-09-21 21:30:00      0.3189  389173.20000      67561959.6  \n",
       "2024-09-21 21:45:00      0.3191   58445.40000      67301593.9  \n",
       "2024-09-21 22:00:00      0.3183  307479.50000      67077140.4  \n",
       "2024-09-21 22:15:00      0.3184  218157.40000      66959140.8  \n",
       "\n",
       "[410222 rows x 7 columns]"
      ]
     },
     "execution_count": 13,
     "metadata": {},
     "output_type": "execute_result"
    }
   ],
   "source": [
    "df['24-Hour Volume'] = df['24-Hour Volume'].fillna(0)\n",
    "df"
   ]
  },
  {
   "cell_type": "markdown",
   "metadata": {},
   "source": [
    "## Fetching Order Book data"
   ]
  },
  {
   "cell_type": "code",
   "execution_count": 39,
   "metadata": {},
   "outputs": [],
   "source": [
    "#TODO: Fetch and combine Order Book Data"
   ]
  },
  {
   "cell_type": "markdown",
   "metadata": {},
   "source": [
    "## Notes"
   ]
  },
  {
   "cell_type": "markdown",
   "metadata": {},
   "source": [
    "- Some trading pairs, being new, have lesser OHLCV data."
   ]
  },
  {
   "cell_type": "markdown",
   "metadata": {},
   "source": [
    "- Used 24h summed up trading volume, where first day might have 0 as trading volume"
   ]
  },
  {
   "cell_type": "markdown",
   "metadata": {},
   "source": []
  }
 ],
 "metadata": {
  "kernelspec": {
   "display_name": "base",
   "language": "python",
   "name": "python3"
  },
  "language_info": {
   "codemirror_mode": {
    "name": "ipython",
    "version": 3
   },
   "file_extension": ".py",
   "mimetype": "text/x-python",
   "name": "python",
   "nbconvert_exporter": "python",
   "pygments_lexer": "ipython3",
   "version": "3.12.4"
  }
 },
 "nbformat": 4,
 "nbformat_minor": 2
}
